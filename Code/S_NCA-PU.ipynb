{
 "cells": [
  {
   "cell_type": "code",
   "execution_count": null,
   "id": "725eacfc-af38-4fc6-8b80-1997c691663a",
   "metadata": {
    "id": "725eacfc-af38-4fc6-8b80-1997c691663a"
   },
   "outputs": [],
   "source": [
    "import matplotlib.pyplot as plt\n",
    "import os\n",
    "import numpy as np\n",
    "import earthpy.plot as ep\n",
    "import seaborn as sns\n",
    "import earthpy.spatial as es\n",
    "\n",
    "import plotly.graph_objects as go\n",
    "import plotly.express as px\n",
    "\n",
    "from scipy.io import loadmat\n",
    "\n",
    "import pandas as pd\n",
    "\n",
    "from sklearn.model_selection import train_test_split\n",
    "from sklearn.metrics import (accuracy_score,\n",
    "                             confusion_matrix, classification_report)\n",
    "\n",
    "import tensorflow as tf\n",
    "from tensorflow import keras\n",
    "from tensorflow.keras.layers import Input, Dense, Dropout, BatchNormalization\n",
    "from tensorflow.keras.models import Sequential\n",
    "from tensorflow.keras.callbacks import EarlyStopping, ModelCheckpoint\n",
    "\n",
    "from tqdm import tqdm\n",
    "\n",
    "from metric_learn import LMNN\n",
    "from sklearn.model_selection import StratifiedKFold"
   ]
  },
  {
   "cell_type": "code",
   "execution_count": null,
   "id": "97dd0ae6-3f9c-46cb-a048-8d910af2a282",
   "metadata": {
    "id": "97dd0ae6-3f9c-46cb-a048-8d910af2a282"
   },
   "outputs": [],
   "source": [
    "data = loadmat('PaviaU.mat')['paviaU']\n",
    "\n",
    "gt = loadmat('PaviaU_gt.mat')['paviaU_gt']\n",
    "\n",
    "df = pd.DataFrame(data.reshape(data.shape[0]*data.shape[1], -1))  #düzleştirip dataframe oluşturuyoruz\n",
    "\n",
    "df.columns = [f'band{i}' for i in range(1, df.shape[-1]+1)]\n",
    "\n",
    "df['class'] = gt.ravel()"
   ]
  },
  {
   "cell_type": "code",
   "execution_count": null,
   "id": "42330c6e-ea75-4f7f-8bb2-0e28c8e50b1e",
   "metadata": {
    "id": "42330c6e-ea75-4f7f-8bb2-0e28c8e50b1e",
    "outputId": "3b92bb8a-5eec-4712-ab37-777735963c41"
   },
   "outputs": [],
   "source": [
    "fig = plt.figure(figsize = (20, 12))\n",
    "\n",
    "ax = fig.subplots(2, 5)\n",
    "\n",
    "for i in range(2):\n",
    "  for j in range(5):\n",
    "    c = np.random.randint(103)\n",
    "    ax[i][j].imshow(data[:, :, c], cmap='gray')\n",
    "    ax[i][j].axis('off')\n",
    "    ax[i][j].title.set_text(f\"Band - {c}\")\n",
    "    c+=1\n",
    "\n",
    "plt.tight_layout()\n",
    "\n",
    "plt.show()"
   ]
  },
  {
   "cell_type": "code",
   "execution_count": null,
   "id": "d018aebe-ce46-4ef7-bc2d-66e3ef153787",
   "metadata": {
    "id": "d018aebe-ce46-4ef7-bc2d-66e3ef153787",
    "outputId": "4bafdc58-da6b-4366-d989-9ca391695b49"
   },
   "outputs": [],
   "source": [
    "mdata = np.moveaxis(data, -1, 0)\n",
    "\n",
    "ep.plot_rgb(mdata, (60, 30, 27), figsize=(12, 10))\n",
    "\n",
    "plt.show()"
   ]
  },
  {
   "cell_type": "code",
   "execution_count": null,
   "id": "7bc312a7-32d6-4576-b0e2-5115c1897fa4",
   "metadata": {
    "id": "7bc312a7-32d6-4576-b0e2-5115c1897fa4",
    "outputId": "09ce1518-ace0-4ce5-c071-b863d36706a5"
   },
   "outputs": [],
   "source": [
    "def plot_data(data):\n",
    "  fig = plt.figure(figsize=(12, 10))\n",
    "  plt.imshow(data, cmap='nipy_spectral')\n",
    "  plt.colorbar()\n",
    "  plt.axis('off')\n",
    "  plt.show()\n",
    "\n",
    "plot_data(gt)"
   ]
  },
  {
   "cell_type": "code",
   "execution_count": null,
   "id": "083d1f37-729e-4951-b476-2e0ed5d8cdf3",
   "metadata": {
    "id": "083d1f37-729e-4951-b476-2e0ed5d8cdf3"
   },
   "outputs": [],
   "source": [
    "X = df[df['class']!=0].iloc[:, :-1].values\n",
    "\n",
    "y = df[df['class']!=0].iloc[:, -1].values"
   ]
  },
  {
   "cell_type": "code",
   "execution_count": null,
   "id": "48df22b2",
   "metadata": {},
   "outputs": [],
   "source": [
    "import numpy as np\n",
    "from sklearn.datasets import load_iris\n",
    "from sklearn.model_selection import KFold\n",
    "from sklearn.neighbors import KNeighborsClassifier\n",
    "from metric_learn import NCA\n",
    "\n",
    "veri = []\n",
    "\n",
    "kf = KFold(n_splits=5, shuffle=True, random_state=42)\n",
    "\n",
    "nca = NCA(max_iter=1000)\n",
    "knn = KNeighborsClassifier(n_neighbors=7)\n",
    "\n",
    "fold_index = 1\n",
    "for test_index, train_index in kf.split(X):\n",
    "    print(f\"Fold {fold_index} -> Train: {len(train_index)}, Test: {len(test_index)}\")\n",
    "\n",
    "    X_train, X_test = X[train_index], X[test_index]\n",
    "    y_train, y_test = y[train_index], y[test_index]\n",
    "\n",
    "    nca.fit(X_train, y_train)\n",
    "    knn.fit(nca.transform(X_train), y_train)\n",
    "\n",
    "    nca_acc = knn.score(nca.transform(X_test), y_test)\n",
    "    print('NCA accuracy on test set of {} points: {:.4f}'.format(X_test.shape[0], nca_acc))\n",
    "    \n",
    "    veri.append(nca_acc)\n",
    "\n",
    "    fold_index += 1\n",
    "    \n",
    "# Dizinin ortalamasını bulalım\n",
    "ortalama = np.mean(veri)\n",
    "\n",
    "# Dizinin standart sapmasını bulalım\n",
    "standart_sapma = np.std(veri)\n",
    "\n",
    "print(\"Veri kümesinin ortalaması:\", ortalama)\n",
    "print(\"Veri kümesinin standart sapması:\", standart_sapma)"
   ]
  },
  {
   "cell_type": "code",
   "execution_count": null,
   "id": "6753bd78-b1d9-43e5-bf10-318bb1d18f16",
   "metadata": {
    "id": "6753bd78-b1d9-43e5-bf10-318bb1d18f16",
    "outputId": "36ec16d6-73d1-496e-83b3-8c49179ccea8"
   },
   "outputs": [],
   "source": [
    "y_pred = knn.predict(nca.transform(X_test))\n",
    "accuracy = accuracy_score(y_test, y_pred)\n",
    "conf_matrix = confusion_matrix(y_test, y_pred)\n",
    "classification_rep = classification_report(y_test, y_pred)\n",
    "\n",
    "print(f\"Accuracy: {accuracy}\")\n",
    "print(f\"Confusion Matrix:\\n{conf_matrix}\")\n",
    "print(f\"Classification Report:\\n{classification_rep}\")"
   ]
  },
  {
   "cell_type": "code",
   "execution_count": null,
   "id": "e3d3e16c-bfbb-498a-963a-d7f3c0f2478e",
   "metadata": {
    "id": "e3d3e16c-bfbb-498a-963a-d7f3c0f2478e"
   },
   "outputs": [],
   "source": [
    "from sklearn.metrics import accuracy_score\n",
    "\n",
    "# Genel doğruluk hesaplama\n",
    "genel_dogruluk = accuracy_score(y_test, y_pred)\n",
    "print(\"Genel Doğruluk:\", genel_dogruluk)"
   ]
  },
  {
   "cell_type": "code",
   "execution_count": null,
   "id": "7e3b378f-6d92-4a44-956e-b089bb3d026b",
   "metadata": {
    "id": "7e3b378f-6d92-4a44-956e-b089bb3d026b"
   },
   "outputs": [],
   "source": [
    "from sklearn.metrics import f1_score\n",
    "\n",
    "# F-Measure hesaplama\n",
    "f_measure = f1_score(y_test, y_pred, average='macro')\n",
    "print(\"F-Measure:\", f_measure)"
   ]
  },
  {
   "cell_type": "code",
   "execution_count": null,
   "id": "8b453164-66c3-45b7-9d11-70e9149eefdc",
   "metadata": {
    "id": "8b453164-66c3-45b7-9d11-70e9149eefdc"
   },
   "outputs": [],
   "source": [
    "from sklearn.metrics import cohen_kappa_score\n",
    "\n",
    "# Kappa değeri hesaplama\n",
    "kappa_degeri = cohen_kappa_score(y_test, y_pred)\n",
    "print(\"Kappa Değeri:\", kappa_degeri)"
   ]
  },
  {
   "cell_type": "code",
   "execution_count": null,
   "id": "a7ee921d",
   "metadata": {},
   "outputs": [],
   "source": [
    "def plot_data(data):\n",
    "  fig = plt.figure(figsize=(12, 9))\n",
    "  plt.imshow(data, cmap='nipy_spectral')\n",
    "  plt.colorbar()\n",
    "  plt.axis('off')\n",
    "  plt.show()\n",
    "\n",
    "plot_data(y_pred)"
   ]
  },
  {
   "cell_type": "code",
   "execution_count": null,
   "id": "f436392f",
   "metadata": {},
   "outputs": [],
   "source": []
  }
 ],
 "metadata": {
  "colab": {
   "provenance": []
  },
  "kernelspec": {
   "display_name": "Python 3 (ipykernel)",
   "language": "python",
   "name": "python3"
  },
  "language_info": {
   "codemirror_mode": {
    "name": "ipython",
    "version": 3
   },
   "file_extension": ".py",
   "mimetype": "text/x-python",
   "name": "python",
   "nbconvert_exporter": "python",
   "pygments_lexer": "ipython3",
   "version": "3.11.6"
  }
 },
 "nbformat": 4,
 "nbformat_minor": 5
}
